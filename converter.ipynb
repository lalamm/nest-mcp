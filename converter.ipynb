{
 "cells": [
  {
   "cell_type": "code",
   "execution_count": null,
   "id": "bab90c0a-6300-4b03-a3ee-c436929e9063",
   "metadata": {},
   "outputs": [],
   "source": [
    "import pandas as pd\n",
    "import json"
   ]
  },
  {
   "cell_type": "code",
   "execution_count": null,
   "id": "97fc5663-714f-4bfc-8efc-5fa263d4b885",
   "metadata": {},
   "outputs": [],
   "source": [
    "def get_financial_multiplier(api_code, default_multiplier=1000):\n",
    "    \"\"\"\n",
    "    Returns the multiplier for a given API code.\n",
    "    \n",
    "    Args:\n",
    "        api_code: The financial API code (e.g., 'SI', 'ANT', 'EKA')\n",
    "        default_multiplier: Multiplier for monetary values (default: 1000)\n",
    "    \n",
    "    Returns:\n",
    "        int: Multiplier value (1 for no change, default_multiplier for monetary values)\n",
    "    \"\"\"\n",
    "    \n",
    "    # API codes that should be multiplied (monetary values in thousands)\n",
    "    MONETARY_CODES = {\n",
    "        # Revenue Items\n",
    "        'ADI', 'SDI', 'SI', 'IPA', 'IPI', 'IPT', 'LI', 'costs', 'bruttofort',\n",
    "        \n",
    "        # Expense Items  \n",
    "        'ADK', 'SDK', 'LTP', 'PNKO', 'FOU', 'VF', 'PERSOMK', 'FU', 'loner_ovriga',\n",
    "        'loner_styrelse_vd', 'summa_rorelsekostnader',\n",
    "        \n",
    "        # Asset Items\n",
    "        'SED', 'SAM', 'SOM', 'SV', 'SVA', 'SF', 'KBP', 'EB', 'MI', 'MOA', 'AOM',\n",
    "        'ANF', 'ANFF', 'AFA', 'SFA', 'SIA', 'AIM', 'GLA', 'KPL', 'SRF', 'AAM',\n",
    "        'AID', 'IFS', 'ITS', 'IAA', 'AIV', 'SIV', 'IVEI', 'AFM', 'AMF', 'balance',\n",
    "        'IMMA', 'DRM', 'other_property_plant_and_equipment', 'MAI', 'noncurrent_investments',\n",
    "        'KAPI', 'other_noncurrent_financial_assets', 'FAA', 'anlagsaktiviteter',\n",
    "        'VL', 'TFST', 'THNP', 'ATG', 'VP', 'likvider', 'OMAI', 'summa_finansiella_anltillg',\n",
    "        'other_intangible_assets',\n",
    "        \n",
    "        # Liability & Equity Items\n",
    "        'SEK', 'AK', 'SG', 'SKG', 'SLG', 'LG', 'PG', 'AEK', 'AEKK', 'IRK', 'SIK',\n",
    "        'SOK', 'AKG', 'AKR', 'ALG', 'ALK', 'ANLG', 'GTD', 'GTI', 'MAS', 'SKGKI',\n",
    "        'KL', 'KVL', 'KSL', 'LFK', 'LTK', 'OBL', 'OBLG', 'PST', 'US', 'USF',\n",
    "        'EFMA', 'USKAT', 'hensettelser', 'long_term_mortgage_debt', 'long_term_debt_to_banks',\n",
    "        'LGNP', 'other_long_term_debt', 'ANSVL', 'KGNP', 'short_term_mortgage_debt',\n",
    "        'short_term_debt_to_banks', 'VK', 'AG', 'PASSI', 'summa_langfristiga_skulder',\n",
    "        \n",
    "        # Financial Items\n",
    "        'AFI', 'FI', 'FK', 'AFK', 'AFKK', 'ARI', 'ARK', 'RFF', 'RTK', 'NF', 'NFA',\n",
    "        'NFO', 'FPN', 'other_net_financial_income',\n",
    "        \n",
    "        # Results & Special Items\n",
    "        'DR', 'OR', 'ORS', 'AARS', 'AARK', 'PR', 'EI', 'EK', 'NE', 'EXP', 'SKATAAR',\n",
    "        'KB', 'MU', 'FSUB', 'UTB', 'SUB', 'SUBE', 'SUBT', 'AVUB', 'resultat_e_avskrivningar',\n",
    "        'resultat_e_finansnetto',\n",
    "        \n",
    "        # Provisions & Adjustments\n",
    "        'SAP', 'AVS', 'AFV', 'FFUG', 'OFUG', 'PF', 'PSM', 'SOVE', 'OAE', 'OAEE',\n",
    "        'OTFF', 'TPF', 'NVD', 'ORA', 'VAFI', 'VMF', 'VMFO', 'VØKF', 'VØKI',\n",
    "        \n",
    "        # Cash Flow Items\n",
    "        'KON1', 'KON2', 'KON3', 'KON4', 'KON5', 'KON6', 'KON8', 'KON9', 'KON10',\n",
    "        'UBNKA', 'KON11', 'LIMKA', 'KON12', 'KBPS',\n",
    "        \n",
    "        # Working Capital & Inventory\n",
    "        'ARKA', 'AV', 'BE', 'BEE', 'BEEA', 'BET', 'EBEF', 'VBI', 'OOF', 'OOF3',\n",
    "        \n",
    "        # Taxes & Fees\n",
    "        'BS', 'SKO', 'SKR', 'OFA', 'short_term_tax_payables', 'SLF', 'REVAN', 'REVHO',\n",
    "        \n",
    "        # Other Special Items\n",
    "        'EGA', 'MAK', 'MAO', 'AKSB', 'FONE', 'LEDPS', 'LL', 'ANDLØ', 'OBLNM',\n",
    "        'KSK', 'MIN', 'MINK', 'MA', 'KUF', 'ANIE', 'GTS', 'HUSLK', 'OER', 'OVR'\n",
    "    }\n",
    "    \n",
    "    # Return multiplier if code is monetary, otherwise return 1\n",
    "    return default_multiplier if api_code in MONETARY_CODES else 1"
   ]
  },
  {
   "cell_type": "code",
   "execution_count": null,
   "id": "5667e28d-a12a-4012-80e2-4a9022d22cc4",
   "metadata": {},
   "outputs": [],
   "source": [
    "companies = pd.read_csv(\"raw/Supabase Snippet Update Company Background Images.csv\")\n",
    "codes = pd.read_csv(\"raw/codes.csv\")"
   ]
  },
  {
   "cell_type": "code",
   "execution_count": null,
   "id": "7b07a212-6a34-4598-92e2-4c19b0084dc2",
   "metadata": {},
   "outputs": [],
   "source": [
    "mapper = (codes.set_index(\"API_CODE\").DESCRIPTION_ENGLISH).to_dict()"
   ]
  },
  {
   "cell_type": "code",
   "execution_count": 147,
   "id": "3f9b3d9b-29d9-4414-9859-1ed8b8693e93",
   "metadata": {},
   "outputs": [],
   "source": [
    "cleaned = []\n",
    "for (_,company) in companies.iterrows():\n",
    "    annual_accounts = json.loads(company.annual_accounts)\n",
    "    items = []\n",
    "    for annual_year in annual_accounts:\n",
    "        for item in annual_year[\"accounts\"]:\n",
    "            if item[\"code\"] not in mapper:\n",
    "                #print(\"missing\",item[\"code\"],item[\"amount\"])\n",
    "                continue\n",
    "            else:\n",
    "                if item[\"amount\"] is None:\n",
    "                    continue\n",
    "        \n",
    "                key = mapper[item[\"code\"]]\n",
    "                value = float(item[\"amount\"])\n",
    "                if \"%\" in key:\n",
    "                    value/=100\n",
    "                    key = key.replace(\" in %\",\"\")\n",
    "                    #print(key,value)\n",
    "                value *= get_financial_multiplier(item[\"code\"])\n",
    "                    \n",
    "                #We should fix so its correct value here... somethimes percentage, soemtime SEK, sometimes MSEK\n",
    "                items.append([annual_year[\"year\"],key,value])\n",
    "    company_dict = company[[\"company_id\",\"name\",\"organization_number\",\"company_type\",\"company_purpose\",\"established_date\",\"foundation_year\",\"registered_for_payroll_tax\",\"homepage\",\"postal_address\",\"visitor_address\",\"nace_categories\",\"location\"]].to_dict()\n",
    "    if len(items):\n",
    "        company_dict[\"financiaL_data\"] = json.loads(pd.DataFrame(items).pivot_table(index=0,columns=1,values=2).to_json(orient=\"index\"))\n",
    "    cleaned.append(company_dict)\n",
    "    "
   ]
  },
  {
   "cell_type": "code",
   "execution_count": 150,
   "id": "94c05577-cb96-4a3a-85c6-4ea290aeced0",
   "metadata": {},
   "outputs": [],
   "source": [
    "pd.DataFrame(cleaned).to_parquet(\"hello_nest.parquet\")"
   ]
  },
  {
   "cell_type": "code",
   "execution_count": null,
   "id": "f620693d-1bd8-4e0b-b3c2-8e3c94260b1b",
   "metadata": {},
   "outputs": [],
   "source": [
    "? pd.pivot_table"
   ]
  },
  {
   "cell_type": "code",
   "execution_count": null,
   "id": "f8d29fed-dd2f-4ada-bd08-95737da9f000",
   "metadata": {},
   "outputs": [],
   "source": []
  }
 ],
 "metadata": {
  "kernelspec": {
   "display_name": "Python 3 (ipykernel)",
   "language": "python",
   "name": "python3"
  },
  "language_info": {
   "codemirror_mode": {
    "name": "ipython",
    "version": 3
   },
   "file_extension": ".py",
   "mimetype": "text/x-python",
   "name": "python",
   "nbconvert_exporter": "python",
   "pygments_lexer": "ipython3",
   "version": "3.10.17"
  }
 },
 "nbformat": 4,
 "nbformat_minor": 5
}
